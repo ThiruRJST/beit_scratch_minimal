{
 "cells": [
  {
   "cell_type": "code",
   "execution_count": 2,
   "metadata": {},
   "outputs": [],
   "source": [
    "import numpy as np\n",
    "import cv2"
   ]
  },
  {
   "cell_type": "code",
   "execution_count": 56,
   "metadata": {},
   "outputs": [
    {
     "data": {
      "text/plain": [
       "(500, 473, 3)"
      ]
     },
     "execution_count": 56,
     "metadata": {},
     "output_type": "execute_result"
    }
   ],
   "source": [
    "patch_mask_size = 24\n",
    "img_size = 224\n",
    "\n",
    "image = cv2.imread(\"../data/imagewoof2/train/n02086240/n02086240_12896.JPEG\")\n",
    "image.shape"
   ]
  },
  {
   "cell_type": "code",
   "execution_count": 64,
   "metadata": {},
   "outputs": [],
   "source": [
    "def mask_random_patches(image, patch_mask_size, resized_image_size):\n",
    "    resized_image = cv2.resize(image, (resized_image_size, resized_image_size))\n",
    "    mask = np.ones((resized_image_size, resized_image_size,3), dtype=np.uint8)\n",
    "\n",
    "    #generate random integer indices for the resized image size\n",
    "    x_index, y_index = np.random.randint(0, resized_image_size-patch_mask_size, 2)\n",
    "    mask[x_index:x_index+patch_mask_size, y_index:y_index+patch_mask_size] = 0\n",
    "\n",
    "    labels = resized_image[x_index:x_index+patch_mask_size, y_index:y_index+patch_mask_size]\n",
    "\n",
    "    patched_image = resized_image * mask\n",
    "\n",
    "    return patched_image, resized_image, labels"
   ]
  },
  {
   "cell_type": "code",
   "execution_count": 65,
   "metadata": {},
   "outputs": [],
   "source": [
    "patched_image, resized_image, labels = mask_random_patches(\n",
    "    image=image,\n",
    "    patch_mask_size=patch_mask_size,\n",
    "    resized_image_size=img_size\n",
    ")"
   ]
  },
  {
   "cell_type": "code",
   "execution_count": 66,
   "metadata": {},
   "outputs": [
    {
     "data": {
      "text/plain": [
       "(24, 24, 3)"
      ]
     },
     "execution_count": 66,
     "metadata": {},
     "output_type": "execute_result"
    }
   ],
   "source": [
    "labels.shape"
   ]
  },
  {
   "cell_type": "code",
   "execution_count": 67,
   "metadata": {},
   "outputs": [],
   "source": [
    "norm_patched_image, norm_resized_image, norm_labels = patched_image/255, resized_image/255, labels/255"
   ]
  },
  {
   "cell_type": "code",
   "execution_count": 60,
   "metadata": {},
   "outputs": [
    {
     "data": {
      "text/plain": [
       "((224, 224, 3), (224, 224, 3))"
      ]
     },
     "execution_count": 60,
     "metadata": {},
     "output_type": "execute_result"
    }
   ],
   "source": [
    "norm_resized_image.shape, norm_patched_image.shape"
   ]
  },
  {
   "cell_type": "code",
   "execution_count": 72,
   "metadata": {},
   "outputs": [
    {
     "data": {
      "text/plain": [
       "tensor(1.0295, dtype=torch.float64)"
      ]
     },
     "execution_count": 72,
     "metadata": {},
     "output_type": "execute_result"
    }
   ],
   "source": [
    "import torch\n",
    "import torch.nn.functional as F\n",
    "\n",
    "patch_tensor, resized_tensor, label_tensor = torch.from_numpy(norm_patched_image), torch.from_numpy(norm_resized_image), torch.from_numpy(norm_labels)\n",
    "yhat = torch.randn(24,24,3)\n",
    "\n",
    "F.mse_loss(yhat, label_tensor)\n"
   ]
  },
  {
   "cell_type": "code",
   "execution_count": null,
   "metadata": {},
   "outputs": [],
   "source": []
  }
 ],
 "metadata": {
  "kernelspec": {
   "display_name": "venv",
   "language": "python",
   "name": "python3"
  },
  "language_info": {
   "codemirror_mode": {
    "name": "ipython",
    "version": 3
   },
   "file_extension": ".py",
   "mimetype": "text/x-python",
   "name": "python",
   "nbconvert_exporter": "python",
   "pygments_lexer": "ipython3",
   "version": "3.10.16"
  }
 },
 "nbformat": 4,
 "nbformat_minor": 2
}
